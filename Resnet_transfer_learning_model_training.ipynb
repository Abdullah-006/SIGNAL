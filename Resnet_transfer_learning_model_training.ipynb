{
  "nbformat": 4,
  "nbformat_minor": 0,
  "metadata": {
    "colab": {
      "provenance": [],
      "gpuType": "T4"
    },
    "kernelspec": {
      "name": "python3",
      "display_name": "Python 3"
    },
    "language_info": {
      "name": "python"
    },
    "accelerator": "GPU"
  },
  "cells": [
    {
      "cell_type": "code",
      "source": [
        "from google.colab import drive\n",
        "drive.mount('/gdrive')"
      ],
      "metadata": {
        "id": "6_R2iVQ31bWB",
        "colab": {
          "base_uri": "https://localhost:8080/"
        },
        "outputId": "70fb5d84-9416-4071-a169-e41690d0f240"
      },
      "execution_count": null,
      "outputs": [
        {
          "output_type": "stream",
          "name": "stdout",
          "text": [
            "Mounted at /gdrive\n"
          ]
        }
      ]
    },
    {
      "cell_type": "code",
      "source": [
        "import os\n",
        "len(os.listdir('/gdrive/MyDrive/hy/data/0')),len(os.listdir('/gdrive/MyDrive/hy/data/1')),len(os.listdir('/gdrive/MyDrive/hy/data/2'))"
      ],
      "metadata": {
        "colab": {
          "base_uri": "https://localhost:8080/"
        },
        "id": "DMMW67m_1dEq",
        "outputId": "ec4ce3bb-e210-47f5-e2ba-59426a9120b9"
      },
      "execution_count": 1,
      "outputs": [
        {
          "output_type": "execute_result",
          "data": {
            "text/plain": [
              "(1008, 1008, 976)"
            ]
          },
          "metadata": {},
          "execution_count": 1
        }
      ]
    },
    {
      "cell_type": "code",
      "source": [
        "import os\n",
        "import numpy as np\n",
        "import cv2\n",
        "from sklearn.model_selection import train_test_split\n",
        "from tensorflow.keras.applications import ResNet50\n",
        "from tensorflow.keras.layers import Dense, GlobalAveragePooling2D\n",
        "from tensorflow.keras.models import Model\n",
        "from tensorflow.keras.preprocessing.image import ImageDataGenerator\n"
      ],
      "metadata": {
        "id": "vFHdQlqQLP_u"
      },
      "execution_count": 2,
      "outputs": []
    },
    {
      "cell_type": "code",
      "source": [
        "# Define parameters\n",
        "image_size = (224, 224)\n",
        "batch_size = 32\n",
        "DATA_DIR = '/gdrive/MyDrive/hy/data'\n",
        "num_classes = len(os.listdir(DATA_DIR))  # Assuming each folder corresponds to a class\n",
        "\n",
        "# Load pre-trained ResNet50 model without top layers\n",
        "base_model = ResNet50(weights='imagenet', include_top=False, input_shape=(image_size[0], image_size[1], 3))\n",
        "\n",
        "# Add custom classification layers\n",
        "x = base_model.output\n",
        "x = GlobalAveragePooling2D()(x)\n",
        "x = Dense(256, activation='relu')(x)\n",
        "predictions = Dense(num_classes, activation='softmax')(x)\n",
        "\n",
        "model = Model(inputs=base_model.input, outputs=predictions)\n",
        "\n",
        "model.compile(optimizer='adam', loss='sparse_categorical_crossentropy', metrics=['accuracy'])\n",
        "\n",
        "\n",
        "\n",
        "# Create data generator with validation split\n",
        "data_generator = ImageDataGenerator(\n",
        "    rescale=1.0 / 255,\n",
        "    rotation_range=20,\n",
        "    width_shift_range=0.2,\n",
        "    height_shift_range=0.2,\n",
        "    horizontal_flip=True,\n",
        "    fill_mode='nearest',\n",
        "    validation_split=0.2  # Split the data into 80% training and 20% validation\n",
        ")\n",
        "\n",
        "# Create a single generator for both training and validation\n",
        "data_generator = data_generator.flow_from_directory(\n",
        "    DATA_DIR,\n",
        "    target_size=image_size,\n",
        "    batch_size=batch_size,\n",
        "    class_mode='sparse',  # Assuming you have numerical labels\n",
        "    subset='training'  # Specify 'validation' for the validation subset\n",
        ")"
      ],
      "metadata": {
        "id": "0tKtxWPLLT6Y",
        "colab": {
          "base_uri": "https://localhost:8080/"
        },
        "outputId": "df9c314a-448b-493d-f034-aa21141974c3"
      },
      "execution_count": 3,
      "outputs": [
        {
          "output_type": "stream",
          "name": "stdout",
          "text": [
            "Found 2395 images belonging to 3 classes.\n"
          ]
        }
      ]
    },
    {
      "cell_type": "code",
      "source": [
        "# Train the model\n",
        "history = model.fit(\n",
        "    data_generator,\n",
        "    epochs=10,\n",
        "    validation_data=data_generator\n",
        ")"
      ],
      "metadata": {
        "colab": {
          "base_uri": "https://localhost:8080/"
        },
        "id": "UsVb_IeZLP8k",
        "outputId": "0e40dde6-bfe0-4421-c7ad-8cea332830b2"
      },
      "execution_count": 5,
      "outputs": [
        {
          "output_type": "stream",
          "name": "stdout",
          "text": [
            "Epoch 1/10\n",
            "75/75 [==============================] - 209s 2s/step - loss: 0.1220 - accuracy: 0.9649 - val_loss: 11.0065 - val_accuracy: 0.3261\n",
            "Epoch 2/10\n",
            "75/75 [==============================] - 91s 1s/step - loss: 0.0017 - accuracy: 1.0000 - val_loss: 10.9545 - val_accuracy: 0.3261\n",
            "Epoch 3/10\n",
            "75/75 [==============================] - 91s 1s/step - loss: 0.0193 - accuracy: 0.9950 - val_loss: 3.6313 - val_accuracy: 0.3261\n",
            "Epoch 4/10\n",
            "75/75 [==============================] - 131s 2s/step - loss: 0.0038 - accuracy: 0.9987 - val_loss: 1.0989 - val_accuracy: 0.3370\n",
            "Epoch 5/10\n",
            "75/75 [==============================] - 90s 1s/step - loss: 0.0489 - accuracy: 0.9875 - val_loss: 1.1024 - val_accuracy: 0.3261\n",
            "Epoch 6/10\n",
            "75/75 [==============================] - 91s 1s/step - loss: 0.1609 - accuracy: 0.9737 - val_loss: 1.1298 - val_accuracy: 0.3261\n",
            "Epoch 7/10\n",
            "75/75 [==============================] - 92s 1s/step - loss: 0.0033 - accuracy: 0.9992 - val_loss: 1.1321 - val_accuracy: 0.3261\n",
            "Epoch 8/10\n",
            "75/75 [==============================] - 91s 1s/step - loss: 0.0039 - accuracy: 0.9987 - val_loss: 1.1314 - val_accuracy: 0.3261\n",
            "Epoch 9/10\n",
            "75/75 [==============================] - 90s 1s/step - loss: 0.0207 - accuracy: 0.9962 - val_loss: 1.1337 - val_accuracy: 0.3261\n",
            "Epoch 10/10\n",
            "75/75 [==============================] - 91s 1s/step - loss: 0.0321 - accuracy: 0.9916 - val_loss: 1.1488 - val_accuracy: 0.3261\n"
          ]
        }
      ]
    },
    {
      "cell_type": "code",
      "source": [
        "# Save the trained model to a file\n",
        "model.save('res_trained_model.h5')\n",
        "\n",
        "# Optionally, you can also save the history object for future reference\n",
        "import pickle\n",
        "\n",
        "with open('training_history.pickle', 'wb') as f:\n",
        "    pickle.dump(history.history, f)"
      ],
      "metadata": {
        "id": "XmXDMUgDMRBB"
      },
      "execution_count": 6,
      "outputs": []
    },
    {
      "cell_type": "code",
      "source": [
        "import matplotlib.pyplot as plt\n",
        "\n",
        "# ... (previous code)\n",
        "\n",
        "# Access training history\n",
        "training_accuracy = history.history['accuracy']\n",
        "validation_accuracy = history.history['val_accuracy']\n",
        "training_loss = history.history['loss']\n",
        "validation_loss = history.history['val_loss']\n",
        "\n",
        "# Plot accuracy\n",
        "plt.plot(training_accuracy, label='Training Accuracy')\n",
        "plt.plot(validation_accuracy, label='Validation Accuracy')\n",
        "plt.xlabel('Epoch')\n",
        "plt.ylabel('Accuracy')\n",
        "plt.title('Training and Validation Accuracy')\n",
        "plt.legend()\n",
        "plt.show()\n",
        "\n",
        "# Plot loss\n",
        "plt.plot(training_loss, label='Training Loss')\n",
        "plt.plot(validation_loss, label='Validation Loss')\n",
        "plt.xlabel('Epoch')\n",
        "plt.ylabel('Loss')\n",
        "plt.title('Training and Validation Loss')\n",
        "plt.legend()\n",
        "plt.show()\n"
      ],
      "metadata": {
        "colab": {
          "base_uri": "https://localhost:8080/",
          "height": 927
        },
        "id": "LdFKWe5qWPhD",
        "outputId": "2ad81769-0865-4b27-ecaa-0dc5b0f161de"
      },
      "execution_count": 7,
      "outputs": [
        {
          "output_type": "display_data",
          "data": {
            "text/plain": [
              "<Figure size 640x480 with 1 Axes>"
            ],
            "image/png": "[encoded data removed]"
          },
          "metadata": {}
        },
        {
          "output_type": "display_data",
          "data": {
            "text/plain": [
              "<Figure size 640x480 with 1 Axes>"
            ],
            "image/png": "[encoded data removed]"
          },
          "metadata": {}
        }
      ]
    },
    {
      "cell_type": "code",
      "source": [
        "# Evaluate on the test set\n",
        "data_generator = ImageDataGenerator(\n",
        "    rescale=1.0 / 255,\n",
        "    rotation_range=20,\n",
        "    width_shift_range=0.2,\n",
        "    height_shift_range=0.2,\n",
        "    horizontal_flip=True,\n",
        "    fill_mode='nearest',\n",
        ")\n",
        "\n",
        "test_data_generator = data_generator.flow_from_directory(\n",
        "    DATA_DIR,  # Provide the path to your test data\n",
        "    target_size=image_size,\n",
        "    batch_size=batch_size,\n",
        "    class_mode='sparse',\n",
        "    shuffle=False  # Important to keep the order for evaluation\n",
        ")\n",
        "\n",
        "test_loss, test_accuracy = model.evaluate(test_data_generator)\n",
        "print(f\"Test accuracy: {test_accuracy}\")\n"
      ],
      "metadata": {
        "id": "lJf9q5APy_sn",
        "colab": {
          "base_uri": "https://localhost:8080/"
        },
        "outputId": "4ffeab10-6b0e-41dc-a1f4-38609a3fd462"
      },
      "execution_count": 9,
      "outputs": [
        {
          "output_type": "stream",
          "name": "stdout",
          "text": [
            "Found 2992 images belonging to 3 classes.\n",
            "94/94 [==============================] - 68s 725ms/step - loss: 1.1488 - accuracy: 0.3262\n",
            "Test accuracy: 0.32620319724082947\n"
          ]
        }
      ]
    },
    {
      "cell_type": "code",
      "source": [
        "from sklearn.metrics import classification_report\n",
        "\n",
        "# Assuming you have ground truth labels for the validation data\n",
        "true_labels = test_data_generator.classes\n",
        "\n",
        "# Make predictions\n",
        "predictions = model.predict(test_data_generator)\n",
        "\n",
        "# Convert predicted probabilities to class labels\n",
        "predicted_labels = np.argmax(predictions, axis=1)\n",
        "\n",
        "# Generate a classification report\n",
        "report = classification_report(true_labels, predicted_labels)\n",
        "print(report)\n"
      ],
      "metadata": {
        "colab": {
          "base_uri": "https://localhost:8080/"
        },
        "id": "gci9dX8KWiUW",
        "outputId": "af0e0505-c4c3-45f6-cd1d-603011f85c99"
      },
      "execution_count": 12,
      "outputs": [
        {
          "output_type": "stream",
          "name": "stdout",
          "text": [
            "94/94 [==============================] - 55s 576ms/step\n",
            "              precision    recall  f1-score   support\n",
            "\n",
            "           0       0.00      0.00      0.00      1008\n",
            "           1       0.00      0.00      0.00      1008\n",
            "           2       0.33      1.00      0.49       976\n",
            "\n",
            "    accuracy                           0.33      2992\n",
            "   macro avg       0.11      0.33      0.16      2992\n",
            "weighted avg       0.11      0.33      0.16      2992\n",
            "\n"
          ]
        },
        {
          "output_type": "stream",
          "name": "stderr",
          "text": [
            "/usr/local/lib/python3.10/dist-packages/sklearn/metrics/_classification.py:1344: UndefinedMetricWarning: Precision and F-score are ill-defined and being set to 0.0 in labels with no predicted samples. Use `zero_division` parameter to control this behavior.\n",
            "  _warn_prf(average, modifier, msg_start, len(result))\n",
            "/usr/local/lib/python3.10/dist-packages/sklearn/metrics/_classification.py:1344: UndefinedMetricWarning: Precision and F-score are ill-defined and being set to 0.0 in labels with no predicted samples. Use `zero_division` parameter to control this behavior.\n",
            "  _warn_prf(average, modifier, msg_start, len(result))\n",
            "/usr/local/lib/python3.10/dist-packages/sklearn/metrics/_classification.py:1344: UndefinedMetricWarning: Precision and F-score are ill-defined and being set to 0.0 in labels with no predicted samples. Use `zero_division` parameter to control this behavior.\n",
            "  _warn_prf(average, modifier, msg_start, len(result))\n"
          ]
        }
      ]
    },
    {
      "cell_type": "code",
      "source": [],
      "metadata": {
        "id": "JXhxETJnX2tS"
      },
      "execution_count": null,
      "outputs": []
    }
  ]
}